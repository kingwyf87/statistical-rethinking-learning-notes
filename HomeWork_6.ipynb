{
 "cells": [
  {
   "cell_type": "code",
   "execution_count": 1,
   "metadata": {},
   "outputs": [],
   "source": [
    "import pymc3 as pm\n",
    "import numpy as np\n",
    "import scipy.stats as stats\n",
    "import scipy.special as special\n",
    "import matplotlib.pyplot as plt\n",
    "import arviz as az\n",
    "import pandas as pd\n",
    "import seaborn as sns\n",
    "import statsmodels.api as sm\n",
    "import statsmodels.formula.api as smf \n",
    "import numpy.matlib\n",
    "import theano.tensor as tt\n",
    "import warnings\n",
    "\n",
    "from sklearn import preprocessing\n",
    "from theano import shared\n",
    "from scipy.special import expit as logistic\n",
    "from scipy.special import softmax\n",
    "from scipy.stats import betabinom\n",
    "from matplotlib.patches import Ellipse, transforms"
   ]
  },
  {
   "cell_type": "code",
   "execution_count": 2,
   "metadata": {},
   "outputs": [],
   "source": [
    "%config InlineBackend.figure_format = 'retina'\n",
    "warnings.simplefilter(action='ignore', category=(FutureWarning, UserWarning))\n",
    "az.style.use('arviz-darkgrid')"
   ]
  },
  {
   "cell_type": "code",
   "execution_count": 3,
   "metadata": {},
   "outputs": [],
   "source": [
    "RANDOM_SEED = 42\n",
    "np.random.seed(42)"
   ]
  },
  {
   "cell_type": "code",
   "execution_count": 4,
   "metadata": {},
   "outputs": [
    {
     "name": "stdout",
     "output_type": "stream",
     "text": [
      "This notebook was created using:\n",
      "Python 3.7.4\n",
      "IPython 7.13.0\n",
      "PyMC3 3.9.2\n",
      "ArviZ 0.9.0\n",
      "NumPy 1.18.2\n",
      "SciPy 1.4.1\n",
      "Pandas 1.0.3\n",
      "Seaborn 0.10.0\n",
      "Patsy 0.5.1\n",
      "Matplotlib 3.2.1\n",
      "Theano 1.0.4\n",
      "Sklearn 0.22.2.post1\n",
      "Statsmodels 0.11.1\n",
      "\n"
     ]
    }
   ],
   "source": [
    "import sys, IPython, scipy, matplotlib, pandas, seaborn, patsy, platform, theano, sklearn, statsmodels\n",
    "print(\"\"\"This notebook was created using:\n",
    "Python {}\n",
    "IPython {}\n",
    "PyMC3 {}\n",
    "ArviZ {}\n",
    "NumPy {}\n",
    "SciPy {}\n",
    "Pandas {}\n",
    "Seaborn {}\n",
    "Patsy {}\n",
    "Matplotlib {}\n",
    "Theano {}\n",
    "Sklearn {}\n",
    "Statsmodels {}\\n\"\"\".format(sys.version[:5], \n",
    "                             IPython.__version__, \n",
    "                             pm.__version__, \n",
    "                             az.__version__, \n",
    "                             np.__version__, \n",
    "                             scipy.__version__, \n",
    "                             pandas.__version__, \n",
    "                             seaborn.__version__, \n",
    "                             patsy.__version__, \n",
    "                             matplotlib.__version__, \n",
    "                             theano.__version__, \n",
    "                             sklearn.__version__, \n",
    "                             statsmodels.api.__version__))"
   ]
  },
  {
   "cell_type": "markdown",
   "metadata": {},
   "source": [
    "### 1. The data in data(NWOGrants) are outcomes for scientific funding applications for the Netherlands Organization for Scientific Research (NWO) from 2010–2012 (see van der Lee and Ellemers doi:10.1073/pnas.1510159112). These data have a very similar structure to the UCBAdmit data discussed in Chapter 11.\n",
    "\n",
    "### I want you to consider a similar question: What are the total and indirect causal effects of gender on grant awards? Consider a mediation path (a pipe) through dis- cipline. Draw the corresponding DAG and then use one or more binomial GLMs to answer the question.\n",
    "\n",
    "### What is your causal interpretation? If NWO’s goal is to equalize rates of funding between the genders, what type of intervention would be most effective?"
   ]
  },
  {
   "cell_type": "code",
   "execution_count": 5,
   "metadata": {},
   "outputs": [
    {
     "data": {
      "text/html": [
       "<div>\n",
       "<style scoped>\n",
       "    .dataframe tbody tr th:only-of-type {\n",
       "        vertical-align: middle;\n",
       "    }\n",
       "\n",
       "    .dataframe tbody tr th {\n",
       "        vertical-align: top;\n",
       "    }\n",
       "\n",
       "    .dataframe thead th {\n",
       "        text-align: right;\n",
       "    }\n",
       "</style>\n",
       "<table border=\"1\" class=\"dataframe\">\n",
       "  <thead>\n",
       "    <tr style=\"text-align: right;\">\n",
       "      <th></th>\n",
       "      <th>discipline</th>\n",
       "      <th>gender</th>\n",
       "      <th>applications</th>\n",
       "      <th>awards</th>\n",
       "    </tr>\n",
       "  </thead>\n",
       "  <tbody>\n",
       "    <tr>\n",
       "      <th>0</th>\n",
       "      <td>Chemical sciences</td>\n",
       "      <td>m</td>\n",
       "      <td>83</td>\n",
       "      <td>22</td>\n",
       "    </tr>\n",
       "    <tr>\n",
       "      <th>1</th>\n",
       "      <td>Chemical sciences</td>\n",
       "      <td>f</td>\n",
       "      <td>39</td>\n",
       "      <td>10</td>\n",
       "    </tr>\n",
       "    <tr>\n",
       "      <th>2</th>\n",
       "      <td>Physical sciences</td>\n",
       "      <td>m</td>\n",
       "      <td>135</td>\n",
       "      <td>26</td>\n",
       "    </tr>\n",
       "    <tr>\n",
       "      <th>3</th>\n",
       "      <td>Physical sciences</td>\n",
       "      <td>f</td>\n",
       "      <td>39</td>\n",
       "      <td>9</td>\n",
       "    </tr>\n",
       "    <tr>\n",
       "      <th>4</th>\n",
       "      <td>Physics</td>\n",
       "      <td>m</td>\n",
       "      <td>67</td>\n",
       "      <td>18</td>\n",
       "    </tr>\n",
       "    <tr>\n",
       "      <th>5</th>\n",
       "      <td>Physics</td>\n",
       "      <td>f</td>\n",
       "      <td>9</td>\n",
       "      <td>2</td>\n",
       "    </tr>\n",
       "    <tr>\n",
       "      <th>6</th>\n",
       "      <td>Humanities</td>\n",
       "      <td>m</td>\n",
       "      <td>230</td>\n",
       "      <td>33</td>\n",
       "    </tr>\n",
       "    <tr>\n",
       "      <th>7</th>\n",
       "      <td>Humanities</td>\n",
       "      <td>f</td>\n",
       "      <td>166</td>\n",
       "      <td>32</td>\n",
       "    </tr>\n",
       "    <tr>\n",
       "      <th>8</th>\n",
       "      <td>Technical sciences</td>\n",
       "      <td>m</td>\n",
       "      <td>189</td>\n",
       "      <td>30</td>\n",
       "    </tr>\n",
       "    <tr>\n",
       "      <th>9</th>\n",
       "      <td>Technical sciences</td>\n",
       "      <td>f</td>\n",
       "      <td>62</td>\n",
       "      <td>13</td>\n",
       "    </tr>\n",
       "    <tr>\n",
       "      <th>10</th>\n",
       "      <td>Interdisciplinary</td>\n",
       "      <td>m</td>\n",
       "      <td>105</td>\n",
       "      <td>12</td>\n",
       "    </tr>\n",
       "    <tr>\n",
       "      <th>11</th>\n",
       "      <td>Interdisciplinary</td>\n",
       "      <td>f</td>\n",
       "      <td>78</td>\n",
       "      <td>17</td>\n",
       "    </tr>\n",
       "    <tr>\n",
       "      <th>12</th>\n",
       "      <td>Earth/life sciences</td>\n",
       "      <td>m</td>\n",
       "      <td>156</td>\n",
       "      <td>38</td>\n",
       "    </tr>\n",
       "    <tr>\n",
       "      <th>13</th>\n",
       "      <td>Earth/life sciences</td>\n",
       "      <td>f</td>\n",
       "      <td>126</td>\n",
       "      <td>18</td>\n",
       "    </tr>\n",
       "    <tr>\n",
       "      <th>14</th>\n",
       "      <td>Social sciences</td>\n",
       "      <td>m</td>\n",
       "      <td>425</td>\n",
       "      <td>65</td>\n",
       "    </tr>\n",
       "    <tr>\n",
       "      <th>15</th>\n",
       "      <td>Social sciences</td>\n",
       "      <td>f</td>\n",
       "      <td>409</td>\n",
       "      <td>47</td>\n",
       "    </tr>\n",
       "    <tr>\n",
       "      <th>16</th>\n",
       "      <td>Medical sciences</td>\n",
       "      <td>m</td>\n",
       "      <td>245</td>\n",
       "      <td>46</td>\n",
       "    </tr>\n",
       "    <tr>\n",
       "      <th>17</th>\n",
       "      <td>Medical sciences</td>\n",
       "      <td>f</td>\n",
       "      <td>260</td>\n",
       "      <td>29</td>\n",
       "    </tr>\n",
       "  </tbody>\n",
       "</table>\n",
       "</div>"
      ],
      "text/plain": [
       "             discipline gender  applications  awards\n",
       "0     Chemical sciences      m            83      22\n",
       "1     Chemical sciences      f            39      10\n",
       "2     Physical sciences      m           135      26\n",
       "3     Physical sciences      f            39       9\n",
       "4               Physics      m            67      18\n",
       "5               Physics      f             9       2\n",
       "6            Humanities      m           230      33\n",
       "7            Humanities      f           166      32\n",
       "8    Technical sciences      m           189      30\n",
       "9    Technical sciences      f            62      13\n",
       "10    Interdisciplinary      m           105      12\n",
       "11    Interdisciplinary      f            78      17\n",
       "12  Earth/life sciences      m           156      38\n",
       "13  Earth/life sciences      f           126      18\n",
       "14      Social sciences      m           425      65\n",
       "15      Social sciences      f           409      47\n",
       "16     Medical sciences      m           245      46\n",
       "17     Medical sciences      f           260      29"
      ]
     },
     "execution_count": 5,
     "metadata": {},
     "output_type": "execute_result"
    }
   ],
   "source": [
    "df = pd.read_csv('Data/NWOGrants.csv', ';')\n",
    "df"
   ]
  },
  {
   "cell_type": "markdown",
   "metadata": {},
   "source": [
    "G is gender, D is discipline, and A is award. The direct causal effect of gender is the path G → A. The total effect includes that path and the indirect path G → D → A. "
   ]
  },
  {
   "cell_type": "code",
   "execution_count": 6,
   "metadata": {},
   "outputs": [],
   "source": [
    "awards = df['awards'].values\n",
    "apps = df['applications'].values\n",
    "gid = pd.Categorical(df['gender']).codes"
   ]
  },
  {
   "cell_type": "code",
   "execution_count": 7,
   "metadata": {},
   "outputs": [
    {
     "name": "stderr",
     "output_type": "stream",
     "text": [
      "Auto-assigning NUTS sampler...\n",
      "Initializing NUTS using jitter+adapt_diag...\n",
      "Multiprocess sampling (4 chains in 4 jobs)\n",
      "NUTS: [a]\n"
     ]
    },
    {
     "data": {
      "text/html": [
       "\n",
       "    <div>\n",
       "        <style>\n",
       "            /* Turns off some styling */\n",
       "            progress {\n",
       "                /* gets rid of default border in Firefox and Opera. */\n",
       "                border: none;\n",
       "                /* Needs to be in here for Safari polyfill so background images work as expected. */\n",
       "                background-size: auto;\n",
       "            }\n",
       "            .progress-bar-interrupted, .progress-bar-interrupted::-webkit-progress-bar {\n",
       "                background: #F44336;\n",
       "            }\n",
       "        </style>\n",
       "      <progress value='8000' class='' max='8000' style='width:300px; height:20px; vertical-align: middle;'></progress>\n",
       "      100.00% [8000/8000 00:01<00:00 Sampling 4 chains, 0 divergences]\n",
       "    </div>\n",
       "    "
      ],
      "text/plain": [
       "<IPython.core.display.HTML object>"
      ]
     },
     "metadata": {},
     "output_type": "display_data"
    },
    {
     "name": "stderr",
     "output_type": "stream",
     "text": [
      "Sampling 4 chains for 1_000 tune and 1_000 draw iterations (4_000 + 4_000 draws total) took 2 seconds.\n"
     ]
    }
   ],
   "source": [
    "# define model: award ~ gender \n",
    "with pm.Model() as m6_1:\n",
    "    \n",
    "    # fixed priors\n",
    "    a = pm.Normal('a', mu=-1., sd=1.0, shape=gid.max()+1)\n",
    "    \n",
    "    # linear model\n",
    "    p = pm.Deterministic('p', pm.math.invlogit(a[gid]))\n",
    "    \n",
    "    # likelihood\n",
    "    A = pm.Binomial('A', p=p, n=apps, observed=awards)\n",
    "    \n",
    "    trace_m6_1 = pm.sample(1000, tune=1000, random_seed=RANDOM_SEED)\n",
    "    idata_m6_1 = az.from_pymc3(trace_m6_1)"
   ]
  },
  {
   "cell_type": "code",
   "execution_count": 8,
   "metadata": {},
   "outputs": [
    {
     "data": {
      "text/html": [
       "<div>\n",
       "<style scoped>\n",
       "    .dataframe tbody tr th:only-of-type {\n",
       "        vertical-align: middle;\n",
       "    }\n",
       "\n",
       "    .dataframe tbody tr th {\n",
       "        vertical-align: top;\n",
       "    }\n",
       "\n",
       "    .dataframe thead th {\n",
       "        text-align: right;\n",
       "    }\n",
       "</style>\n",
       "<table border=\"1\" class=\"dataframe\">\n",
       "  <thead>\n",
       "    <tr style=\"text-align: right;\">\n",
       "      <th></th>\n",
       "      <th>mean</th>\n",
       "      <th>sd</th>\n",
       "      <th>hdi_5.5%</th>\n",
       "      <th>hdi_94.5%</th>\n",
       "    </tr>\n",
       "  </thead>\n",
       "  <tbody>\n",
       "    <tr>\n",
       "      <th>a[0]</th>\n",
       "      <td>-1.74</td>\n",
       "      <td>0.08</td>\n",
       "      <td>-1.86</td>\n",
       "      <td>-1.61</td>\n",
       "    </tr>\n",
       "    <tr>\n",
       "      <th>a[1]</th>\n",
       "      <td>-1.53</td>\n",
       "      <td>0.07</td>\n",
       "      <td>-1.64</td>\n",
       "      <td>-1.43</td>\n",
       "    </tr>\n",
       "  </tbody>\n",
       "</table>\n",
       "</div>"
      ],
      "text/plain": [
       "      mean    sd  hdi_5.5%  hdi_94.5%\n",
       "a[0] -1.74  0.08     -1.86      -1.61\n",
       "a[1] -1.53  0.07     -1.64      -1.43"
      ]
     },
     "execution_count": 8,
     "metadata": {},
     "output_type": "execute_result"
    }
   ],
   "source": [
    "# show model summary\n",
    "varnames = ['~p']\n",
    "az.summary(idata_m6_1, varnames, kind='stats', round_to=2, hdi_prob=0.89)"
   ]
  },
  {
   "cell_type": "markdown",
   "metadata": {},
   "source": [
    "Gender 1 here is male and 2 is female. So males have higher rates of award, on average. How big is the difference? "
   ]
  },
  {
   "cell_type": "code",
   "execution_count": 9,
   "metadata": {},
   "outputs": [],
   "source": [
    "post = idata_m6_1.posterior"
   ]
  },
  {
   "cell_type": "code",
   "execution_count": 10,
   "metadata": {},
   "outputs": [
    {
     "data": {
      "text/html": [
       "<div>\n",
       "<style scoped>\n",
       "    .dataframe tbody tr th:only-of-type {\n",
       "        vertical-align: middle;\n",
       "    }\n",
       "\n",
       "    .dataframe tbody tr th {\n",
       "        vertical-align: top;\n",
       "    }\n",
       "\n",
       "    .dataframe thead th {\n",
       "        text-align: right;\n",
       "    }\n",
       "</style>\n",
       "<table border=\"1\" class=\"dataframe\">\n",
       "  <thead>\n",
       "    <tr style=\"text-align: right;\">\n",
       "      <th></th>\n",
       "      <th>mean</th>\n",
       "      <th>sd</th>\n",
       "      <th>hdi_5.5%</th>\n",
       "      <th>hdi_94.5%</th>\n",
       "    </tr>\n",
       "  </thead>\n",
       "  <tbody>\n",
       "    <tr>\n",
       "      <th>x</th>\n",
       "      <td>0.03</td>\n",
       "      <td>0.01</td>\n",
       "      <td>0.0</td>\n",
       "      <td>0.05</td>\n",
       "    </tr>\n",
       "  </tbody>\n",
       "</table>\n",
       "</div>"
      ],
      "text/plain": [
       "   mean    sd  hdi_5.5%  hdi_94.5%\n",
       "x  0.03  0.01       0.0       0.05"
      ]
     },
     "execution_count": 10,
     "metadata": {},
     "output_type": "execute_result"
    }
   ],
   "source": [
    "diff = logistic(post['a'].sel(a_dim_0=1).stack(sample=('chain', 'draw')).to_pandas().values) - logistic(post['a'].sel(a_dim_0=0).stack(sample=('chain', 'draw')).to_pandas().values)\n",
    "az.summary(diff, kind='stats', round_to=2, hdi_prob=0.89)"
   ]
  },
  {
   "cell_type": "markdown",
   "metadata": {},
   "source": [
    "Now for the direct influence of gender, we condition on discipline as well:"
   ]
  },
  {
   "cell_type": "code",
   "execution_count": 11,
   "metadata": {},
   "outputs": [],
   "source": [
    "disc = pd.Categorical(df['discipline']).codes"
   ]
  },
  {
   "cell_type": "code",
   "execution_count": 12,
   "metadata": {},
   "outputs": [
    {
     "name": "stderr",
     "output_type": "stream",
     "text": [
      "Auto-assigning NUTS sampler...\n",
      "Initializing NUTS using jitter+adapt_diag...\n",
      "Multiprocess sampling (4 chains in 4 jobs)\n",
      "NUTS: [d, a]\n"
     ]
    },
    {
     "data": {
      "text/html": [
       "\n",
       "    <div>\n",
       "        <style>\n",
       "            /* Turns off some styling */\n",
       "            progress {\n",
       "                /* gets rid of default border in Firefox and Opera. */\n",
       "                border: none;\n",
       "                /* Needs to be in here for Safari polyfill so background images work as expected. */\n",
       "                background-size: auto;\n",
       "            }\n",
       "            .progress-bar-interrupted, .progress-bar-interrupted::-webkit-progress-bar {\n",
       "                background: #F44336;\n",
       "            }\n",
       "        </style>\n",
       "      <progress value='12000' class='' max='12000' style='width:300px; height:20px; vertical-align: middle;'></progress>\n",
       "      100.00% [12000/12000 00:07<00:00 Sampling 4 chains, 0 divergences]\n",
       "    </div>\n",
       "    "
      ],
      "text/plain": [
       "<IPython.core.display.HTML object>"
      ]
     },
     "metadata": {},
     "output_type": "display_data"
    },
    {
     "name": "stderr",
     "output_type": "stream",
     "text": [
      "Sampling 4 chains for 1_000 tune and 2_000 draw iterations (4_000 + 8_000 draws total) took 8 seconds.\n",
      "The number of effective samples is smaller than 25% for some parameters.\n"
     ]
    }
   ],
   "source": [
    "# define model: award ~ gender + discipline\n",
    "with pm.Model() as m6_1:\n",
    "    \n",
    "    # fixed priors\n",
    "    a = pm.Normal('a', mu=-1., sd=1.0, shape=gid.max()+1)\n",
    "    d = pm.Normal('d', mu=0., sd=1.0, shape=disc.max()+1)\n",
    "    \n",
    "    # linear model\n",
    "    p = pm.Deterministic('p', pm.math.invlogit(a[gid] + d[disc]))\n",
    "    \n",
    "    # likelihood\n",
    "    A = pm.Binomial('A', p=p, n=apps, observed=awards)\n",
    "    \n",
    "    trace_m6_2 = pm.sample(2000, tune=1000, target_accept=0.9, random_seed=RANDOM_SEED)\n",
    "    idata_m6_2 = az.from_pymc3(trace_m6_2)"
   ]
  },
  {
   "cell_type": "code",
   "execution_count": 13,
   "metadata": {},
   "outputs": [
    {
     "data": {
      "text/html": [
       "<div>\n",
       "<style scoped>\n",
       "    .dataframe tbody tr th:only-of-type {\n",
       "        vertical-align: middle;\n",
       "    }\n",
       "\n",
       "    .dataframe tbody tr th {\n",
       "        vertical-align: top;\n",
       "    }\n",
       "\n",
       "    .dataframe thead th {\n",
       "        text-align: right;\n",
       "    }\n",
       "</style>\n",
       "<table border=\"1\" class=\"dataframe\">\n",
       "  <thead>\n",
       "    <tr style=\"text-align: right;\">\n",
       "      <th></th>\n",
       "      <th>mean</th>\n",
       "      <th>sd</th>\n",
       "      <th>hdi_5.5%</th>\n",
       "      <th>hdi_94.5%</th>\n",
       "    </tr>\n",
       "  </thead>\n",
       "  <tbody>\n",
       "    <tr>\n",
       "      <th>a[0]</th>\n",
       "      <td>-1.47</td>\n",
       "      <td>0.32</td>\n",
       "      <td>-1.98</td>\n",
       "      <td>-0.94</td>\n",
       "    </tr>\n",
       "    <tr>\n",
       "      <th>a[1]</th>\n",
       "      <td>-1.34</td>\n",
       "      <td>0.32</td>\n",
       "      <td>-1.82</td>\n",
       "      <td>-0.80</td>\n",
       "    </tr>\n",
       "    <tr>\n",
       "      <th>d[0]</th>\n",
       "      <td>0.32</td>\n",
       "      <td>0.36</td>\n",
       "      <td>-0.27</td>\n",
       "      <td>0.90</td>\n",
       "    </tr>\n",
       "    <tr>\n",
       "      <th>d[1]</th>\n",
       "      <td>-0.01</td>\n",
       "      <td>0.34</td>\n",
       "      <td>-0.56</td>\n",
       "      <td>0.53</td>\n",
       "    </tr>\n",
       "    <tr>\n",
       "      <th>d[2]</th>\n",
       "      <td>-0.24</td>\n",
       "      <td>0.34</td>\n",
       "      <td>-0.79</td>\n",
       "      <td>0.29</td>\n",
       "    </tr>\n",
       "    <tr>\n",
       "      <th>d[3]</th>\n",
       "      <td>-0.28</td>\n",
       "      <td>0.36</td>\n",
       "      <td>-0.84</td>\n",
       "      <td>0.30</td>\n",
       "    </tr>\n",
       "    <tr>\n",
       "      <th>d[4]</th>\n",
       "      <td>-0.34</td>\n",
       "      <td>0.33</td>\n",
       "      <td>-0.89</td>\n",
       "      <td>0.18</td>\n",
       "    </tr>\n",
       "    <tr>\n",
       "      <th>d[5]</th>\n",
       "      <td>-0.02</td>\n",
       "      <td>0.36</td>\n",
       "      <td>-0.60</td>\n",
       "      <td>0.56</td>\n",
       "    </tr>\n",
       "    <tr>\n",
       "      <th>d[6]</th>\n",
       "      <td>0.29</td>\n",
       "      <td>0.39</td>\n",
       "      <td>-0.35</td>\n",
       "      <td>0.88</td>\n",
       "    </tr>\n",
       "    <tr>\n",
       "      <th>d[7]</th>\n",
       "      <td>-0.46</td>\n",
       "      <td>0.33</td>\n",
       "      <td>-1.03</td>\n",
       "      <td>0.02</td>\n",
       "    </tr>\n",
       "    <tr>\n",
       "      <th>d[8]</th>\n",
       "      <td>-0.21</td>\n",
       "      <td>0.35</td>\n",
       "      <td>-0.77</td>\n",
       "      <td>0.34</td>\n",
       "    </tr>\n",
       "  </tbody>\n",
       "</table>\n",
       "</div>"
      ],
      "text/plain": [
       "      mean    sd  hdi_5.5%  hdi_94.5%\n",
       "a[0] -1.47  0.32     -1.98      -0.94\n",
       "a[1] -1.34  0.32     -1.82      -0.80\n",
       "d[0]  0.32  0.36     -0.27       0.90\n",
       "d[1] -0.01  0.34     -0.56       0.53\n",
       "d[2] -0.24  0.34     -0.79       0.29\n",
       "d[3] -0.28  0.36     -0.84       0.30\n",
       "d[4] -0.34  0.33     -0.89       0.18\n",
       "d[5] -0.02  0.36     -0.60       0.56\n",
       "d[6]  0.29  0.39     -0.35       0.88\n",
       "d[7] -0.46  0.33     -1.03       0.02\n",
       "d[8] -0.21  0.35     -0.77       0.34"
      ]
     },
     "execution_count": 13,
     "metadata": {},
     "output_type": "execute_result"
    }
   ],
   "source": [
    "# show model summary\n",
    "varnames = ['~p']\n",
    "az.summary(idata_m6_2, varnames, kind='stats', round_to=2, hdi_prob=0.89)"
   ]
  },
  {
   "cell_type": "code",
   "execution_count": 14,
   "metadata": {},
   "outputs": [],
   "source": [
    "post = idata_m6_2.posterior"
   ]
  },
  {
   "cell_type": "code",
   "execution_count": 15,
   "metadata": {},
   "outputs": [
    {
     "data": {
      "text/html": [
       "<div>\n",
       "<style scoped>\n",
       "    .dataframe tbody tr th:only-of-type {\n",
       "        vertical-align: middle;\n",
       "    }\n",
       "\n",
       "    .dataframe tbody tr th {\n",
       "        vertical-align: top;\n",
       "    }\n",
       "\n",
       "    .dataframe thead th {\n",
       "        text-align: right;\n",
       "    }\n",
       "</style>\n",
       "<table border=\"1\" class=\"dataframe\">\n",
       "  <thead>\n",
       "    <tr style=\"text-align: right;\">\n",
       "      <th></th>\n",
       "      <th>mean</th>\n",
       "      <th>sd</th>\n",
       "      <th>hdi_5.5%</th>\n",
       "      <th>hdi_94.5%</th>\n",
       "    </tr>\n",
       "  </thead>\n",
       "  <tbody>\n",
       "    <tr>\n",
       "      <th>x</th>\n",
       "      <td>0.02</td>\n",
       "      <td>0.02</td>\n",
       "      <td>-0.0</td>\n",
       "      <td>0.05</td>\n",
       "    </tr>\n",
       "  </tbody>\n",
       "</table>\n",
       "</div>"
      ],
      "text/plain": [
       "   mean    sd  hdi_5.5%  hdi_94.5%\n",
       "x  0.02  0.02      -0.0       0.05"
      ]
     },
     "execution_count": 15,
     "metadata": {},
     "output_type": "execute_result"
    }
   ],
   "source": [
    "diff_a = logistic(post['a'].sel(a_dim_0=1).stack(sample=('chain', 'draw')).to_pandas().values) - logistic(post['a'].sel(a_dim_0=0).stack(sample=('chain', 'draw')).to_pandas().values)\n",
    "az.summary(diff_a, kind='stats', round_to=2, hdi_prob=0.89)"
   ]
  },
  {
   "cell_type": "markdown",
   "metadata": {},
   "source": [
    "If there is a direct influence of gender here, it is small, much smaller than before we accounted for discipline. Why? Because again the disciplines have different funding rates and women apply more to the disciplines with lower funding rates. But it would be hasty, I think, to conclude there are no other influences. There are after all lots of unmeasured confounds."
   ]
  },
  {
   "cell_type": "markdown",
   "metadata": {},
   "source": [
    "### 2. Suppose that the NWO Grants sample has an unobserved confound that influences both choice of discipline and the probability of an award. One example of such a confound could be the career stage of each applicant. Suppose that in some disciplines, junior scholars apply for most of the grants. In other disciplines, scholars from all career stages compete. As a result, career stage influences discipline as well as the probability of being awarded a grant.\n",
    "\n",
    "### Add these influences to your DAG from Problem 1. What happens now when you condition on discipline? Does it provide an un-confounded estimate of the direct path from gender to an award? Why or why not? Justify your answer with the back-door criterion. Hint: This is structurally a lot like the grandparents-parents-children-neighborhoods example from a previous week.\n",
    "\n",
    "### If you have trouble thinking this though, try simulating fake data, assuming your DAG is true. Then analyze it using the model from Problem 1. What do you conclude? Is it possible for gender to have a real direct causal influence but for a regression conditioning on both gender and discipline to suggest zero influence?"
   ]
  },
  {
   "cell_type": "code",
   "execution_count": 16,
   "metadata": {},
   "outputs": [],
   "source": [
    "N = 1000\n",
    "G = scipy.stats.bernoulli.rvs(p=0.5, size=N)\n",
    "S = scipy.stats.bernoulli.rvs(p=0.5, size=N)\n",
    "D = scipy.stats.bernoulli.rvs(p=logistic(G+S), size=N)\n",
    "A = scipy.stats.bernoulli.rvs(p=logistic(0.25*G + D + 2*S - 2), size=N)"
   ]
  },
  {
   "cell_type": "markdown",
   "metadata": {},
   "source": [
    "This code simulates 1000 applicants. There are 2 genders (G 0/1), 2 stages of career (S 0/1), and 2 disciplines (D 0/1). Discipline 1 is chosen more by gender 1 and career stage 1. So that could mean more by males and later stage of career. Then awards A have a consistent bias towards gender 1, and discipline 1 has a higher award rate, and stage 1 also a higher award rate. "
   ]
  },
  {
   "cell_type": "code",
   "execution_count": 17,
   "metadata": {},
   "outputs": [
    {
     "name": "stderr",
     "output_type": "stream",
     "text": [
      "Auto-assigning NUTS sampler...\n",
      "Initializing NUTS using jitter+adapt_diag...\n",
      "Multiprocess sampling (4 chains in 4 jobs)\n",
      "NUTS: [g, d, a]\n"
     ]
    },
    {
     "data": {
      "text/html": [
       "\n",
       "    <div>\n",
       "        <style>\n",
       "            /* Turns off some styling */\n",
       "            progress {\n",
       "                /* gets rid of default border in Firefox and Opera. */\n",
       "                border: none;\n",
       "                /* Needs to be in here for Safari polyfill so background images work as expected. */\n",
       "                background-size: auto;\n",
       "            }\n",
       "            .progress-bar-interrupted, .progress-bar-interrupted::-webkit-progress-bar {\n",
       "                background: #F44336;\n",
       "            }\n",
       "        </style>\n",
       "      <progress value='8000' class='' max='8000' style='width:300px; height:20px; vertical-align: middle;'></progress>\n",
       "      100.00% [8000/8000 00:05<00:00 Sampling 4 chains, 0 divergences]\n",
       "    </div>\n",
       "    "
      ],
      "text/plain": [
       "<IPython.core.display.HTML object>"
      ]
     },
     "metadata": {},
     "output_type": "display_data"
    },
    {
     "name": "stderr",
     "output_type": "stream",
     "text": [
      "Sampling 4 chains for 1_000 tune and 1_000 draw iterations (4_000 + 4_000 draws total) took 6 seconds.\n"
     ]
    }
   ],
   "source": [
    "# define model: award ~ gender + discipline\n",
    "with pm.Model() as m6_3:\n",
    "    \n",
    "    # fixed priors\n",
    "    a = pm.Normal('a', mu=0., sd=1.0)\n",
    "    d = pm.Normal('d', mu=0., sd=1.0)\n",
    "    g = pm.Normal('g', mu=0., sd=1.0)\n",
    "    \n",
    "    # linear model\n",
    "    p = pm.Deterministic('p', pm.math.invlogit(a + d*D + g*G))\n",
    "    \n",
    "    # likelihood\n",
    "    A_est = pm.Bernoulli('A_est', p=p, observed=A)\n",
    "    \n",
    "    trace_m6_3 = pm.sample(1000, tune=1000, target_accept=0.9, random_seed=RANDOM_SEED)\n",
    "    idata_m6_3 = az.from_pymc3(trace_m6_3)"
   ]
  },
  {
   "cell_type": "code",
   "execution_count": 18,
   "metadata": {},
   "outputs": [
    {
     "data": {
      "text/html": [
       "<div>\n",
       "<style scoped>\n",
       "    .dataframe tbody tr th:only-of-type {\n",
       "        vertical-align: middle;\n",
       "    }\n",
       "\n",
       "    .dataframe tbody tr th {\n",
       "        vertical-align: top;\n",
       "    }\n",
       "\n",
       "    .dataframe thead th {\n",
       "        text-align: right;\n",
       "    }\n",
       "</style>\n",
       "<table border=\"1\" class=\"dataframe\">\n",
       "  <thead>\n",
       "    <tr style=\"text-align: right;\">\n",
       "      <th></th>\n",
       "      <th>mean</th>\n",
       "      <th>sd</th>\n",
       "      <th>hdi_5.5%</th>\n",
       "      <th>hdi_94.5%</th>\n",
       "    </tr>\n",
       "  </thead>\n",
       "  <tbody>\n",
       "    <tr>\n",
       "      <th>a</th>\n",
       "      <td>-1.17</td>\n",
       "      <td>0.15</td>\n",
       "      <td>-1.40</td>\n",
       "      <td>-0.93</td>\n",
       "    </tr>\n",
       "    <tr>\n",
       "      <th>d</th>\n",
       "      <td>1.26</td>\n",
       "      <td>0.16</td>\n",
       "      <td>0.99</td>\n",
       "      <td>1.50</td>\n",
       "    </tr>\n",
       "    <tr>\n",
       "      <th>g</th>\n",
       "      <td>0.28</td>\n",
       "      <td>0.13</td>\n",
       "      <td>0.06</td>\n",
       "      <td>0.49</td>\n",
       "    </tr>\n",
       "  </tbody>\n",
       "</table>\n",
       "</div>"
      ],
      "text/plain": [
       "   mean    sd  hdi_5.5%  hdi_94.5%\n",
       "a -1.17  0.15     -1.40      -0.93\n",
       "d  1.26  0.16      0.99       1.50\n",
       "g  0.28  0.13      0.06       0.49"
      ]
     },
     "execution_count": 18,
     "metadata": {},
     "output_type": "execute_result"
    }
   ],
   "source": [
    "# show model summary\n",
    "varnames = ['~p']\n",
    "az.summary(idata_m6_3, varnames, kind='stats', round_to=2, hdi_prob=0.89)"
   ]
  },
  {
   "cell_type": "code",
   "execution_count": 19,
   "metadata": {},
   "outputs": [],
   "source": [
    "N = 1000\n",
    "G = scipy.stats.bernoulli.rvs(p=0.5, size=N)\n",
    "S = scipy.stats.bernoulli.rvs(p=0.5, size=N)\n",
    "D = scipy.stats.bernoulli.rvs(p=logistic(2*G-S), size=N)\n",
    "A = scipy.stats.bernoulli.rvs(p=logistic(0*G + D + S - 2), size=N)"
   ]
  },
  {
   "cell_type": "code",
   "execution_count": 20,
   "metadata": {},
   "outputs": [
    {
     "name": "stderr",
     "output_type": "stream",
     "text": [
      "Auto-assigning NUTS sampler...\n",
      "Initializing NUTS using jitter+adapt_diag...\n",
      "Multiprocess sampling (4 chains in 4 jobs)\n",
      "NUTS: [g, d, a]\n"
     ]
    },
    {
     "data": {
      "text/html": [
       "\n",
       "    <div>\n",
       "        <style>\n",
       "            /* Turns off some styling */\n",
       "            progress {\n",
       "                /* gets rid of default border in Firefox and Opera. */\n",
       "                border: none;\n",
       "                /* Needs to be in here for Safari polyfill so background images work as expected. */\n",
       "                background-size: auto;\n",
       "            }\n",
       "            .progress-bar-interrupted, .progress-bar-interrupted::-webkit-progress-bar {\n",
       "                background: #F44336;\n",
       "            }\n",
       "        </style>\n",
       "      <progress value='8000' class='' max='8000' style='width:300px; height:20px; vertical-align: middle;'></progress>\n",
       "      100.00% [8000/8000 00:05<00:00 Sampling 4 chains, 0 divergences]\n",
       "    </div>\n",
       "    "
      ],
      "text/plain": [
       "<IPython.core.display.HTML object>"
      ]
     },
     "metadata": {},
     "output_type": "display_data"
    },
    {
     "name": "stderr",
     "output_type": "stream",
     "text": [
      "Sampling 4 chains for 1_000 tune and 1_000 draw iterations (4_000 + 4_000 draws total) took 6 seconds.\n"
     ]
    }
   ],
   "source": [
    "# define model: award ~ gender + discipline\n",
    "with pm.Model() as m6_4:\n",
    "    \n",
    "    # fixed priors\n",
    "    a = pm.Normal('a', mu=0., sd=1.0)\n",
    "    d = pm.Normal('d', mu=0., sd=1.0)\n",
    "    g = pm.Normal('g', mu=0., sd=1.0)\n",
    "    \n",
    "    # linear model\n",
    "    p = pm.Deterministic('p', pm.math.invlogit(a + d*D + g*G))\n",
    "    \n",
    "    # likelihood\n",
    "    A_est = pm.Bernoulli('A_est', p=p, observed=A)\n",
    "    \n",
    "    trace_m6_4 = pm.sample(1000, tune=1000, target_accept=0.9, random_seed=RANDOM_SEED)\n",
    "    idata_m6_4 = az.from_pymc3(trace_m6_4)"
   ]
  },
  {
   "cell_type": "code",
   "execution_count": 21,
   "metadata": {},
   "outputs": [
    {
     "data": {
      "text/html": [
       "<div>\n",
       "<style scoped>\n",
       "    .dataframe tbody tr th:only-of-type {\n",
       "        vertical-align: middle;\n",
       "    }\n",
       "\n",
       "    .dataframe tbody tr th {\n",
       "        vertical-align: top;\n",
       "    }\n",
       "\n",
       "    .dataframe thead th {\n",
       "        text-align: right;\n",
       "    }\n",
       "</style>\n",
       "<table border=\"1\" class=\"dataframe\">\n",
       "  <thead>\n",
       "    <tr style=\"text-align: right;\">\n",
       "      <th></th>\n",
       "      <th>mean</th>\n",
       "      <th>sd</th>\n",
       "      <th>hdi_5.5%</th>\n",
       "      <th>hdi_94.5%</th>\n",
       "    </tr>\n",
       "  </thead>\n",
       "  <tbody>\n",
       "    <tr>\n",
       "      <th>a</th>\n",
       "      <td>-1.40</td>\n",
       "      <td>0.13</td>\n",
       "      <td>-1.62</td>\n",
       "      <td>-1.20</td>\n",
       "    </tr>\n",
       "    <tr>\n",
       "      <th>d</th>\n",
       "      <td>0.77</td>\n",
       "      <td>0.16</td>\n",
       "      <td>0.50</td>\n",
       "      <td>1.02</td>\n",
       "    </tr>\n",
       "    <tr>\n",
       "      <th>g</th>\n",
       "      <td>0.18</td>\n",
       "      <td>0.16</td>\n",
       "      <td>-0.05</td>\n",
       "      <td>0.44</td>\n",
       "    </tr>\n",
       "  </tbody>\n",
       "</table>\n",
       "</div>"
      ],
      "text/plain": [
       "   mean    sd  hdi_5.5%  hdi_94.5%\n",
       "a -1.40  0.13     -1.62      -1.20\n",
       "d  0.77  0.16      0.50       1.02\n",
       "g  0.18  0.16     -0.05       0.44"
      ]
     },
     "execution_count": 21,
     "metadata": {},
     "output_type": "execute_result"
    }
   ],
   "source": [
    "# show model summary\n",
    "varnames = ['~p']\n",
    "az.summary(idata_m6_4, varnames, kind='stats', round_to=2, hdi_prob=0.89)"
   ]
  },
  {
   "cell_type": "markdown",
   "metadata": {},
   "source": [
    "Now it looks like gender 1 has a consistent advantage, but in fact there is no advantage in the simulation."
   ]
  },
  {
   "cell_type": "markdown",
   "metadata": {},
   "source": [
    "### 3. The data in data(Primates301) were first introduced at the end of Chapter 7. In this problem, you will consider how brain size is associated with social learning. There are three parts.\n",
    "\n",
    "### First, model the number of observations of social_learning for each species as a function of the log brain size. Use a Poisson distribution for the social_learning outcome variable. Interpret the resulting posterior.\n",
    "\n",
    "### Second, some species are studied much more than others. So the number of re- ported instances of social_learning could be a product of research effort. Use the research_effort variable, specifically its logarithm, as an additional predic- tor variable. Interpret the coefficient for log research_effort. Does this model disagree with the previous one?\n",
    "\n",
    "### Third, draw a DAG to represent how you think the variables social_learning, brain, and research_effort interact. Justify the DAG with the measured associations in the two models above (and any other models you used)."
   ]
  },
  {
   "cell_type": "code",
   "execution_count": 22,
   "metadata": {},
   "outputs": [
    {
     "data": {
      "text/html": [
       "<div>\n",
       "<style scoped>\n",
       "    .dataframe tbody tr th:only-of-type {\n",
       "        vertical-align: middle;\n",
       "    }\n",
       "\n",
       "    .dataframe tbody tr th {\n",
       "        vertical-align: top;\n",
       "    }\n",
       "\n",
       "    .dataframe thead th {\n",
       "        text-align: right;\n",
       "    }\n",
       "</style>\n",
       "<table border=\"1\" class=\"dataframe\">\n",
       "  <thead>\n",
       "    <tr style=\"text-align: right;\">\n",
       "      <th></th>\n",
       "      <th>name</th>\n",
       "      <th>genus</th>\n",
       "      <th>species</th>\n",
       "      <th>subspecies</th>\n",
       "      <th>spp_id</th>\n",
       "      <th>genus_id</th>\n",
       "      <th>social_learning</th>\n",
       "      <th>research_effort</th>\n",
       "      <th>brain</th>\n",
       "      <th>body</th>\n",
       "      <th>group_size</th>\n",
       "      <th>gestation</th>\n",
       "      <th>weaning</th>\n",
       "      <th>longevity</th>\n",
       "      <th>sex_maturity</th>\n",
       "      <th>maternal_investment</th>\n",
       "    </tr>\n",
       "  </thead>\n",
       "  <tbody>\n",
       "    <tr>\n",
       "      <th>0</th>\n",
       "      <td>Allenopithecus_nigroviridis</td>\n",
       "      <td>Allenopithecus</td>\n",
       "      <td>nigroviridis</td>\n",
       "      <td>NaN</td>\n",
       "      <td>1</td>\n",
       "      <td>1</td>\n",
       "      <td>0.0</td>\n",
       "      <td>6.0</td>\n",
       "      <td>58.02</td>\n",
       "      <td>4655.00</td>\n",
       "      <td>40.00</td>\n",
       "      <td>NaN</td>\n",
       "      <td>106.15</td>\n",
       "      <td>276.0</td>\n",
       "      <td>NaN</td>\n",
       "      <td>NaN</td>\n",
       "    </tr>\n",
       "    <tr>\n",
       "      <th>1</th>\n",
       "      <td>Allocebus_trichotis</td>\n",
       "      <td>Allocebus</td>\n",
       "      <td>trichotis</td>\n",
       "      <td>NaN</td>\n",
       "      <td>2</td>\n",
       "      <td>2</td>\n",
       "      <td>0.0</td>\n",
       "      <td>6.0</td>\n",
       "      <td>NaN</td>\n",
       "      <td>78.09</td>\n",
       "      <td>1.00</td>\n",
       "      <td>NaN</td>\n",
       "      <td>NaN</td>\n",
       "      <td>NaN</td>\n",
       "      <td>NaN</td>\n",
       "      <td>NaN</td>\n",
       "    </tr>\n",
       "    <tr>\n",
       "      <th>2</th>\n",
       "      <td>Alouatta_belzebul</td>\n",
       "      <td>Alouatta</td>\n",
       "      <td>belzebul</td>\n",
       "      <td>NaN</td>\n",
       "      <td>3</td>\n",
       "      <td>3</td>\n",
       "      <td>0.0</td>\n",
       "      <td>15.0</td>\n",
       "      <td>52.84</td>\n",
       "      <td>6395.00</td>\n",
       "      <td>7.40</td>\n",
       "      <td>NaN</td>\n",
       "      <td>NaN</td>\n",
       "      <td>NaN</td>\n",
       "      <td>NaN</td>\n",
       "      <td>NaN</td>\n",
       "    </tr>\n",
       "    <tr>\n",
       "      <th>3</th>\n",
       "      <td>Alouatta_caraya</td>\n",
       "      <td>Alouatta</td>\n",
       "      <td>caraya</td>\n",
       "      <td>NaN</td>\n",
       "      <td>4</td>\n",
       "      <td>3</td>\n",
       "      <td>0.0</td>\n",
       "      <td>45.0</td>\n",
       "      <td>52.63</td>\n",
       "      <td>5383.00</td>\n",
       "      <td>8.90</td>\n",
       "      <td>185.92</td>\n",
       "      <td>323.16</td>\n",
       "      <td>243.6</td>\n",
       "      <td>1276.72</td>\n",
       "      <td>509.08</td>\n",
       "    </tr>\n",
       "    <tr>\n",
       "      <th>4</th>\n",
       "      <td>Alouatta_guariba</td>\n",
       "      <td>Alouatta</td>\n",
       "      <td>guariba</td>\n",
       "      <td>NaN</td>\n",
       "      <td>5</td>\n",
       "      <td>3</td>\n",
       "      <td>0.0</td>\n",
       "      <td>37.0</td>\n",
       "      <td>51.70</td>\n",
       "      <td>5175.00</td>\n",
       "      <td>7.40</td>\n",
       "      <td>NaN</td>\n",
       "      <td>NaN</td>\n",
       "      <td>NaN</td>\n",
       "      <td>NaN</td>\n",
       "      <td>NaN</td>\n",
       "    </tr>\n",
       "    <tr>\n",
       "      <th>...</th>\n",
       "      <td>...</td>\n",
       "      <td>...</td>\n",
       "      <td>...</td>\n",
       "      <td>...</td>\n",
       "      <td>...</td>\n",
       "      <td>...</td>\n",
       "      <td>...</td>\n",
       "      <td>...</td>\n",
       "      <td>...</td>\n",
       "      <td>...</td>\n",
       "      <td>...</td>\n",
       "      <td>...</td>\n",
       "      <td>...</td>\n",
       "      <td>...</td>\n",
       "      <td>...</td>\n",
       "      <td>...</td>\n",
       "    </tr>\n",
       "    <tr>\n",
       "      <th>296</th>\n",
       "      <td>Trachypithecus_pileatus</td>\n",
       "      <td>Trachypithecus</td>\n",
       "      <td>pileatus</td>\n",
       "      <td>NaN</td>\n",
       "      <td>297</td>\n",
       "      <td>67</td>\n",
       "      <td>0.0</td>\n",
       "      <td>5.0</td>\n",
       "      <td>103.64</td>\n",
       "      <td>11794.00</td>\n",
       "      <td>8.50</td>\n",
       "      <td>NaN</td>\n",
       "      <td>NaN</td>\n",
       "      <td>NaN</td>\n",
       "      <td>NaN</td>\n",
       "      <td>NaN</td>\n",
       "    </tr>\n",
       "    <tr>\n",
       "      <th>297</th>\n",
       "      <td>Trachypithecus_poliocephalus</td>\n",
       "      <td>Trachypithecus</td>\n",
       "      <td>poliocephalus</td>\n",
       "      <td>NaN</td>\n",
       "      <td>298</td>\n",
       "      <td>67</td>\n",
       "      <td>NaN</td>\n",
       "      <td>NaN</td>\n",
       "      <td>NaN</td>\n",
       "      <td>NaN</td>\n",
       "      <td>NaN</td>\n",
       "      <td>NaN</td>\n",
       "      <td>NaN</td>\n",
       "      <td>NaN</td>\n",
       "      <td>NaN</td>\n",
       "      <td>NaN</td>\n",
       "    </tr>\n",
       "    <tr>\n",
       "      <th>298</th>\n",
       "      <td>Trachypithecus_vetulus</td>\n",
       "      <td>Trachypithecus</td>\n",
       "      <td>vetulus</td>\n",
       "      <td>NaN</td>\n",
       "      <td>299</td>\n",
       "      <td>67</td>\n",
       "      <td>0.0</td>\n",
       "      <td>2.0</td>\n",
       "      <td>61.29</td>\n",
       "      <td>6237.00</td>\n",
       "      <td>8.35</td>\n",
       "      <td>204.72</td>\n",
       "      <td>245.78</td>\n",
       "      <td>276.0</td>\n",
       "      <td>1113.70</td>\n",
       "      <td>450.50</td>\n",
       "    </tr>\n",
       "    <tr>\n",
       "      <th>299</th>\n",
       "      <td>Varecia_rubra</td>\n",
       "      <td>Varecia</td>\n",
       "      <td>rubra</td>\n",
       "      <td>NaN</td>\n",
       "      <td>300</td>\n",
       "      <td>68</td>\n",
       "      <td>NaN</td>\n",
       "      <td>NaN</td>\n",
       "      <td>31.08</td>\n",
       "      <td>3470.00</td>\n",
       "      <td>NaN</td>\n",
       "      <td>NaN</td>\n",
       "      <td>NaN</td>\n",
       "      <td>NaN</td>\n",
       "      <td>NaN</td>\n",
       "      <td>NaN</td>\n",
       "    </tr>\n",
       "    <tr>\n",
       "      <th>300</th>\n",
       "      <td>Varecia_variegata_variegata</td>\n",
       "      <td>Varecia</td>\n",
       "      <td>variegata</td>\n",
       "      <td>variegata</td>\n",
       "      <td>301</td>\n",
       "      <td>68</td>\n",
       "      <td>0.0</td>\n",
       "      <td>57.0</td>\n",
       "      <td>32.12</td>\n",
       "      <td>3575.00</td>\n",
       "      <td>2.80</td>\n",
       "      <td>102.50</td>\n",
       "      <td>90.73</td>\n",
       "      <td>384.0</td>\n",
       "      <td>701.52</td>\n",
       "      <td>193.23</td>\n",
       "    </tr>\n",
       "  </tbody>\n",
       "</table>\n",
       "<p>301 rows × 16 columns</p>\n",
       "</div>"
      ],
      "text/plain": [
       "                             name           genus        species subspecies  \\\n",
       "0     Allenopithecus_nigroviridis  Allenopithecus   nigroviridis        NaN   \n",
       "1             Allocebus_trichotis       Allocebus      trichotis        NaN   \n",
       "2               Alouatta_belzebul        Alouatta       belzebul        NaN   \n",
       "3                 Alouatta_caraya        Alouatta         caraya        NaN   \n",
       "4                Alouatta_guariba        Alouatta        guariba        NaN   \n",
       "..                            ...             ...            ...        ...   \n",
       "296       Trachypithecus_pileatus  Trachypithecus       pileatus        NaN   \n",
       "297  Trachypithecus_poliocephalus  Trachypithecus  poliocephalus        NaN   \n",
       "298        Trachypithecus_vetulus  Trachypithecus        vetulus        NaN   \n",
       "299                 Varecia_rubra         Varecia          rubra        NaN   \n",
       "300   Varecia_variegata_variegata         Varecia      variegata  variegata   \n",
       "\n",
       "     spp_id  genus_id  social_learning  research_effort   brain      body  \\\n",
       "0         1         1              0.0              6.0   58.02   4655.00   \n",
       "1         2         2              0.0              6.0     NaN     78.09   \n",
       "2         3         3              0.0             15.0   52.84   6395.00   \n",
       "3         4         3              0.0             45.0   52.63   5383.00   \n",
       "4         5         3              0.0             37.0   51.70   5175.00   \n",
       "..      ...       ...              ...              ...     ...       ...   \n",
       "296     297        67              0.0              5.0  103.64  11794.00   \n",
       "297     298        67              NaN              NaN     NaN       NaN   \n",
       "298     299        67              0.0              2.0   61.29   6237.00   \n",
       "299     300        68              NaN              NaN   31.08   3470.00   \n",
       "300     301        68              0.0             57.0   32.12   3575.00   \n",
       "\n",
       "     group_size  gestation  weaning  longevity  sex_maturity  \\\n",
       "0         40.00        NaN   106.15      276.0           NaN   \n",
       "1          1.00        NaN      NaN        NaN           NaN   \n",
       "2          7.40        NaN      NaN        NaN           NaN   \n",
       "3          8.90     185.92   323.16      243.6       1276.72   \n",
       "4          7.40        NaN      NaN        NaN           NaN   \n",
       "..          ...        ...      ...        ...           ...   \n",
       "296        8.50        NaN      NaN        NaN           NaN   \n",
       "297         NaN        NaN      NaN        NaN           NaN   \n",
       "298        8.35     204.72   245.78      276.0       1113.70   \n",
       "299         NaN        NaN      NaN        NaN           NaN   \n",
       "300        2.80     102.50    90.73      384.0        701.52   \n",
       "\n",
       "     maternal_investment  \n",
       "0                    NaN  \n",
       "1                    NaN  \n",
       "2                    NaN  \n",
       "3                 509.08  \n",
       "4                    NaN  \n",
       "..                   ...  \n",
       "296                  NaN  \n",
       "297                  NaN  \n",
       "298               450.50  \n",
       "299                  NaN  \n",
       "300               193.23  \n",
       "\n",
       "[301 rows x 16 columns]"
      ]
     },
     "execution_count": 22,
     "metadata": {},
     "output_type": "execute_result"
    }
   ],
   "source": [
    "df = pd.read_csv('Data/Primates301.csv', ';')\n",
    "df"
   ]
  },
  {
   "cell_type": "code",
   "execution_count": 23,
   "metadata": {},
   "outputs": [
    {
     "data": {
      "text/html": [
       "<div>\n",
       "<style scoped>\n",
       "    .dataframe tbody tr th:only-of-type {\n",
       "        vertical-align: middle;\n",
       "    }\n",
       "\n",
       "    .dataframe tbody tr th {\n",
       "        vertical-align: top;\n",
       "    }\n",
       "\n",
       "    .dataframe thead th {\n",
       "        text-align: right;\n",
       "    }\n",
       "</style>\n",
       "<table border=\"1\" class=\"dataframe\">\n",
       "  <thead>\n",
       "    <tr style=\"text-align: right;\">\n",
       "      <th></th>\n",
       "      <th>name</th>\n",
       "      <th>genus</th>\n",
       "      <th>species</th>\n",
       "      <th>subspecies</th>\n",
       "      <th>spp_id</th>\n",
       "      <th>genus_id</th>\n",
       "      <th>social_learning</th>\n",
       "      <th>research_effort</th>\n",
       "      <th>brain</th>\n",
       "      <th>body</th>\n",
       "      <th>group_size</th>\n",
       "      <th>gestation</th>\n",
       "      <th>weaning</th>\n",
       "      <th>longevity</th>\n",
       "      <th>sex_maturity</th>\n",
       "      <th>maternal_investment</th>\n",
       "    </tr>\n",
       "  </thead>\n",
       "  <tbody>\n",
       "    <tr>\n",
       "      <th>0</th>\n",
       "      <td>Allenopithecus_nigroviridis</td>\n",
       "      <td>Allenopithecus</td>\n",
       "      <td>nigroviridis</td>\n",
       "      <td>NaN</td>\n",
       "      <td>1</td>\n",
       "      <td>1</td>\n",
       "      <td>0.0</td>\n",
       "      <td>6.0</td>\n",
       "      <td>58.02</td>\n",
       "      <td>4655.0</td>\n",
       "      <td>40.00</td>\n",
       "      <td>NaN</td>\n",
       "      <td>106.15</td>\n",
       "      <td>276.0</td>\n",
       "      <td>NaN</td>\n",
       "      <td>NaN</td>\n",
       "    </tr>\n",
       "    <tr>\n",
       "      <th>2</th>\n",
       "      <td>Alouatta_belzebul</td>\n",
       "      <td>Alouatta</td>\n",
       "      <td>belzebul</td>\n",
       "      <td>NaN</td>\n",
       "      <td>3</td>\n",
       "      <td>3</td>\n",
       "      <td>0.0</td>\n",
       "      <td>15.0</td>\n",
       "      <td>52.84</td>\n",
       "      <td>6395.0</td>\n",
       "      <td>7.40</td>\n",
       "      <td>NaN</td>\n",
       "      <td>NaN</td>\n",
       "      <td>NaN</td>\n",
       "      <td>NaN</td>\n",
       "      <td>NaN</td>\n",
       "    </tr>\n",
       "    <tr>\n",
       "      <th>3</th>\n",
       "      <td>Alouatta_caraya</td>\n",
       "      <td>Alouatta</td>\n",
       "      <td>caraya</td>\n",
       "      <td>NaN</td>\n",
       "      <td>4</td>\n",
       "      <td>3</td>\n",
       "      <td>0.0</td>\n",
       "      <td>45.0</td>\n",
       "      <td>52.63</td>\n",
       "      <td>5383.0</td>\n",
       "      <td>8.90</td>\n",
       "      <td>185.92</td>\n",
       "      <td>323.16</td>\n",
       "      <td>243.6</td>\n",
       "      <td>1276.72</td>\n",
       "      <td>509.08</td>\n",
       "    </tr>\n",
       "    <tr>\n",
       "      <th>4</th>\n",
       "      <td>Alouatta_guariba</td>\n",
       "      <td>Alouatta</td>\n",
       "      <td>guariba</td>\n",
       "      <td>NaN</td>\n",
       "      <td>5</td>\n",
       "      <td>3</td>\n",
       "      <td>0.0</td>\n",
       "      <td>37.0</td>\n",
       "      <td>51.70</td>\n",
       "      <td>5175.0</td>\n",
       "      <td>7.40</td>\n",
       "      <td>NaN</td>\n",
       "      <td>NaN</td>\n",
       "      <td>NaN</td>\n",
       "      <td>NaN</td>\n",
       "      <td>NaN</td>\n",
       "    </tr>\n",
       "    <tr>\n",
       "      <th>5</th>\n",
       "      <td>Alouatta_palliata</td>\n",
       "      <td>Alouatta</td>\n",
       "      <td>palliata</td>\n",
       "      <td>NaN</td>\n",
       "      <td>6</td>\n",
       "      <td>3</td>\n",
       "      <td>3.0</td>\n",
       "      <td>79.0</td>\n",
       "      <td>49.88</td>\n",
       "      <td>6250.0</td>\n",
       "      <td>13.10</td>\n",
       "      <td>185.42</td>\n",
       "      <td>495.60</td>\n",
       "      <td>300.0</td>\n",
       "      <td>1578.42</td>\n",
       "      <td>681.02</td>\n",
       "    </tr>\n",
       "    <tr>\n",
       "      <th>...</th>\n",
       "      <td>...</td>\n",
       "      <td>...</td>\n",
       "      <td>...</td>\n",
       "      <td>...</td>\n",
       "      <td>...</td>\n",
       "      <td>...</td>\n",
       "      <td>...</td>\n",
       "      <td>...</td>\n",
       "      <td>...</td>\n",
       "      <td>...</td>\n",
       "      <td>...</td>\n",
       "      <td>...</td>\n",
       "      <td>...</td>\n",
       "      <td>...</td>\n",
       "      <td>...</td>\n",
       "      <td>...</td>\n",
       "    </tr>\n",
       "    <tr>\n",
       "      <th>294</th>\n",
       "      <td>Trachypithecus_obscurus</td>\n",
       "      <td>Trachypithecus</td>\n",
       "      <td>obscurus</td>\n",
       "      <td>NaN</td>\n",
       "      <td>295</td>\n",
       "      <td>67</td>\n",
       "      <td>0.0</td>\n",
       "      <td>6.0</td>\n",
       "      <td>62.12</td>\n",
       "      <td>7056.0</td>\n",
       "      <td>10.00</td>\n",
       "      <td>146.63</td>\n",
       "      <td>362.93</td>\n",
       "      <td>300.0</td>\n",
       "      <td>NaN</td>\n",
       "      <td>509.56</td>\n",
       "    </tr>\n",
       "    <tr>\n",
       "      <th>295</th>\n",
       "      <td>Trachypithecus_phayrei</td>\n",
       "      <td>Trachypithecus</td>\n",
       "      <td>phayrei</td>\n",
       "      <td>NaN</td>\n",
       "      <td>296</td>\n",
       "      <td>67</td>\n",
       "      <td>0.0</td>\n",
       "      <td>16.0</td>\n",
       "      <td>72.84</td>\n",
       "      <td>7475.0</td>\n",
       "      <td>12.90</td>\n",
       "      <td>180.61</td>\n",
       "      <td>305.87</td>\n",
       "      <td>NaN</td>\n",
       "      <td>NaN</td>\n",
       "      <td>486.48</td>\n",
       "    </tr>\n",
       "    <tr>\n",
       "      <th>296</th>\n",
       "      <td>Trachypithecus_pileatus</td>\n",
       "      <td>Trachypithecus</td>\n",
       "      <td>pileatus</td>\n",
       "      <td>NaN</td>\n",
       "      <td>297</td>\n",
       "      <td>67</td>\n",
       "      <td>0.0</td>\n",
       "      <td>5.0</td>\n",
       "      <td>103.64</td>\n",
       "      <td>11794.0</td>\n",
       "      <td>8.50</td>\n",
       "      <td>NaN</td>\n",
       "      <td>NaN</td>\n",
       "      <td>NaN</td>\n",
       "      <td>NaN</td>\n",
       "      <td>NaN</td>\n",
       "    </tr>\n",
       "    <tr>\n",
       "      <th>298</th>\n",
       "      <td>Trachypithecus_vetulus</td>\n",
       "      <td>Trachypithecus</td>\n",
       "      <td>vetulus</td>\n",
       "      <td>NaN</td>\n",
       "      <td>299</td>\n",
       "      <td>67</td>\n",
       "      <td>0.0</td>\n",
       "      <td>2.0</td>\n",
       "      <td>61.29</td>\n",
       "      <td>6237.0</td>\n",
       "      <td>8.35</td>\n",
       "      <td>204.72</td>\n",
       "      <td>245.78</td>\n",
       "      <td>276.0</td>\n",
       "      <td>1113.70</td>\n",
       "      <td>450.50</td>\n",
       "    </tr>\n",
       "    <tr>\n",
       "      <th>300</th>\n",
       "      <td>Varecia_variegata_variegata</td>\n",
       "      <td>Varecia</td>\n",
       "      <td>variegata</td>\n",
       "      <td>variegata</td>\n",
       "      <td>301</td>\n",
       "      <td>68</td>\n",
       "      <td>0.0</td>\n",
       "      <td>57.0</td>\n",
       "      <td>32.12</td>\n",
       "      <td>3575.0</td>\n",
       "      <td>2.80</td>\n",
       "      <td>102.50</td>\n",
       "      <td>90.73</td>\n",
       "      <td>384.0</td>\n",
       "      <td>701.52</td>\n",
       "      <td>193.23</td>\n",
       "    </tr>\n",
       "  </tbody>\n",
       "</table>\n",
       "<p>150 rows × 16 columns</p>\n",
       "</div>"
      ],
      "text/plain": [
       "                            name           genus       species subspecies  \\\n",
       "0    Allenopithecus_nigroviridis  Allenopithecus  nigroviridis        NaN   \n",
       "2              Alouatta_belzebul        Alouatta      belzebul        NaN   \n",
       "3                Alouatta_caraya        Alouatta        caraya        NaN   \n",
       "4               Alouatta_guariba        Alouatta       guariba        NaN   \n",
       "5              Alouatta_palliata        Alouatta      palliata        NaN   \n",
       "..                           ...             ...           ...        ...   \n",
       "294      Trachypithecus_obscurus  Trachypithecus      obscurus        NaN   \n",
       "295       Trachypithecus_phayrei  Trachypithecus       phayrei        NaN   \n",
       "296      Trachypithecus_pileatus  Trachypithecus      pileatus        NaN   \n",
       "298       Trachypithecus_vetulus  Trachypithecus       vetulus        NaN   \n",
       "300  Varecia_variegata_variegata         Varecia     variegata  variegata   \n",
       "\n",
       "     spp_id  genus_id  social_learning  research_effort   brain     body  \\\n",
       "0         1         1              0.0              6.0   58.02   4655.0   \n",
       "2         3         3              0.0             15.0   52.84   6395.0   \n",
       "3         4         3              0.0             45.0   52.63   5383.0   \n",
       "4         5         3              0.0             37.0   51.70   5175.0   \n",
       "5         6         3              3.0             79.0   49.88   6250.0   \n",
       "..      ...       ...              ...              ...     ...      ...   \n",
       "294     295        67              0.0              6.0   62.12   7056.0   \n",
       "295     296        67              0.0             16.0   72.84   7475.0   \n",
       "296     297        67              0.0              5.0  103.64  11794.0   \n",
       "298     299        67              0.0              2.0   61.29   6237.0   \n",
       "300     301        68              0.0             57.0   32.12   3575.0   \n",
       "\n",
       "     group_size  gestation  weaning  longevity  sex_maturity  \\\n",
       "0         40.00        NaN   106.15      276.0           NaN   \n",
       "2          7.40        NaN      NaN        NaN           NaN   \n",
       "3          8.90     185.92   323.16      243.6       1276.72   \n",
       "4          7.40        NaN      NaN        NaN           NaN   \n",
       "5         13.10     185.42   495.60      300.0       1578.42   \n",
       "..          ...        ...      ...        ...           ...   \n",
       "294       10.00     146.63   362.93      300.0           NaN   \n",
       "295       12.90     180.61   305.87        NaN           NaN   \n",
       "296        8.50        NaN      NaN        NaN           NaN   \n",
       "298        8.35     204.72   245.78      276.0       1113.70   \n",
       "300        2.80     102.50    90.73      384.0        701.52   \n",
       "\n",
       "     maternal_investment  \n",
       "0                    NaN  \n",
       "2                    NaN  \n",
       "3                 509.08  \n",
       "4                    NaN  \n",
       "5                 681.02  \n",
       "..                   ...  \n",
       "294               509.56  \n",
       "295               486.48  \n",
       "296                  NaN  \n",
       "298               450.50  \n",
       "300               193.23  \n",
       "\n",
       "[150 rows x 16 columns]"
      ]
     },
     "execution_count": 23,
     "metadata": {},
     "output_type": "execute_result"
    }
   ],
   "source": [
    "df2 = df.dropna(subset=['social_learning', 'brain', 'research_effort'])\n",
    "df2"
   ]
  },
  {
   "cell_type": "code",
   "execution_count": 24,
   "metadata": {},
   "outputs": [],
   "source": [
    "soc_learn = df2['social_learning'].values\n",
    "log_brain = preprocessing.scale(np.log(df2['brain'].values))\n",
    "log_effort = np.log(df2['research_effort'].values)"
   ]
  },
  {
   "cell_type": "code",
   "execution_count": 25,
   "metadata": {},
   "outputs": [
    {
     "name": "stderr",
     "output_type": "stream",
     "text": [
      "Auto-assigning NUTS sampler...\n",
      "Initializing NUTS using jitter+adapt_diag...\n",
      "Multiprocess sampling (4 chains in 4 jobs)\n",
      "NUTS: [bB, a]\n"
     ]
    },
    {
     "data": {
      "text/html": [
       "\n",
       "    <div>\n",
       "        <style>\n",
       "            /* Turns off some styling */\n",
       "            progress {\n",
       "                /* gets rid of default border in Firefox and Opera. */\n",
       "                border: none;\n",
       "                /* Needs to be in here for Safari polyfill so background images work as expected. */\n",
       "                background-size: auto;\n",
       "            }\n",
       "            .progress-bar-interrupted, .progress-bar-interrupted::-webkit-progress-bar {\n",
       "                background: #F44336;\n",
       "            }\n",
       "        </style>\n",
       "      <progress value='8000' class='' max='8000' style='width:300px; height:20px; vertical-align: middle;'></progress>\n",
       "      100.00% [8000/8000 00:02<00:00 Sampling 4 chains, 0 divergences]\n",
       "    </div>\n",
       "    "
      ],
      "text/plain": [
       "<IPython.core.display.HTML object>"
      ]
     },
     "metadata": {},
     "output_type": "display_data"
    },
    {
     "name": "stderr",
     "output_type": "stream",
     "text": [
      "Sampling 4 chains for 1_000 tune and 1_000 draw iterations (4_000 + 4_000 draws total) took 2 seconds.\n"
     ]
    }
   ],
   "source": [
    "# define model: social_learning ~ log_brain\n",
    "with pm.Model() as m6_5:\n",
    "    \n",
    "    # fixed priors\n",
    "    a = pm.Normal('a', mu=0., sd=1.0)\n",
    "    bB = pm.Normal('bB', mu=0., sd=0.5)\n",
    "    \n",
    "    # linear model\n",
    "    lam = pm.Deterministic('lam', pm.math.invlogit(a + bB*log_brain))\n",
    "    \n",
    "    # likelihood\n",
    "    Learning = pm.Poisson('Learning', mu=lam, observed=soc_learn)\n",
    "    \n",
    "    trace_m6_5 = pm.sample(1000, tune=1000, target_accept=0.9, random_seed=RANDOM_SEED)\n",
    "    idata_m6_5 = az.from_pymc3(trace_m6_5)"
   ]
  },
  {
   "cell_type": "code",
   "execution_count": 26,
   "metadata": {},
   "outputs": [
    {
     "data": {
      "text/html": [
       "<div>\n",
       "<style scoped>\n",
       "    .dataframe tbody tr th:only-of-type {\n",
       "        vertical-align: middle;\n",
       "    }\n",
       "\n",
       "    .dataframe tbody tr th {\n",
       "        vertical-align: top;\n",
       "    }\n",
       "\n",
       "    .dataframe thead th {\n",
       "        text-align: right;\n",
       "    }\n",
       "</style>\n",
       "<table border=\"1\" class=\"dataframe\">\n",
       "  <thead>\n",
       "    <tr style=\"text-align: right;\">\n",
       "      <th></th>\n",
       "      <th>mean</th>\n",
       "      <th>sd</th>\n",
       "      <th>hdi_5.5%</th>\n",
       "      <th>hdi_94.5%</th>\n",
       "    </tr>\n",
       "  </thead>\n",
       "  <tbody>\n",
       "    <tr>\n",
       "      <th>a</th>\n",
       "      <td>1.38</td>\n",
       "      <td>0.33</td>\n",
       "      <td>0.82</td>\n",
       "      <td>1.88</td>\n",
       "    </tr>\n",
       "    <tr>\n",
       "      <th>bB</th>\n",
       "      <td>2.03</td>\n",
       "      <td>0.23</td>\n",
       "      <td>1.65</td>\n",
       "      <td>2.39</td>\n",
       "    </tr>\n",
       "  </tbody>\n",
       "</table>\n",
       "</div>"
      ],
      "text/plain": [
       "    mean    sd  hdi_5.5%  hdi_94.5%\n",
       "a   1.38  0.33      0.82       1.88\n",
       "bB  2.03  0.23      1.65       2.39"
      ]
     },
     "execution_count": 26,
     "metadata": {},
     "output_type": "execute_result"
    }
   ],
   "source": [
    "# show model summary\n",
    "varnames = ['~lam']\n",
    "az.summary(idata_m6_5, varnames, kind='stats', round_to=2, hdi_prob=0.89)"
   ]
  },
  {
   "cell_type": "markdown",
   "metadata": {},
   "source": [
    "Brain size seems to be strongly associated with social learning observations."
   ]
  },
  {
   "cell_type": "code",
   "execution_count": 27,
   "metadata": {},
   "outputs": [],
   "source": [
    "post = idata_m6_5.posterior"
   ]
  },
  {
   "cell_type": "code",
   "execution_count": 28,
   "metadata": {},
   "outputs": [
    {
     "data": {
      "text/html": [
       "\n",
       "    <div>\n",
       "        <style>\n",
       "            /* Turns off some styling */\n",
       "            progress {\n",
       "                /* gets rid of default border in Firefox and Opera. */\n",
       "                border: none;\n",
       "                /* Needs to be in here for Safari polyfill so background images work as expected. */\n",
       "                background-size: auto;\n",
       "            }\n",
       "            .progress-bar-interrupted, .progress-bar-interrupted::-webkit-progress-bar {\n",
       "                background: #F44336;\n",
       "            }\n",
       "        </style>\n",
       "      <progress value='4000' class='' max='4000' style='width:300px; height:20px; vertical-align: middle;'></progress>\n",
       "      100.00% [4000/4000 00:03<00:00]\n",
       "    </div>\n",
       "    "
      ],
      "text/plain": [
       "<IPython.core.display.HTML object>"
      ]
     },
     "metadata": {},
     "output_type": "display_data"
    }
   ],
   "source": [
    "with m6_5:\n",
    "    post = pm.sample_posterior_predictive(\n",
    "        trace_m6_5, random_seed=RANDOM_SEED\n",
    "    )"
   ]
  },
  {
   "cell_type": "code",
   "execution_count": 29,
   "metadata": {},
   "outputs": [
    {
     "data": {
      "image/png": "[encoded data removed]",
      "text/plain": [
       "<Figure size 720x480 with 1 Axes>"
      ]
     },
     "metadata": {
      "image/png": {
       "height": 491,
       "width": 731
      }
     },
     "output_type": "display_data"
    }
   ],
   "source": [
    "post_CI = az.hdi(post['Learning'], hdi_prob=0.89)\n",
    "az.plot_hdi(range(150), post['Learning'],\n",
    "            color='C1',\n",
    "            hdi_prob = 0.89,\n",
    "            fill_kwargs={'alpha': 0.2}\n",
    "           );\n",
    "plt.ylabel('social_learning', fontsize=15)\n",
    "plt.xlabel('case', fontsize=15)\n",
    "plt.ylim([-10, 50])\n",
    "plt.show()"
   ]
  },
  {
   "cell_type": "code",
   "execution_count": 30,
   "metadata": {},
   "outputs": [
    {
     "data": {
      "image/png": "[encoded data removed]",
      "text/plain": [
       "<Figure size 800x300 with 1 Axes>"
      ]
     },
     "metadata": {
      "image/png": {
       "height": 311,
       "width": 811
      }
     },
     "output_type": "display_data"
    }
   ],
   "source": [
    "fig = plt.figure(figsize=(8, 3))\n",
    "plt.plot(range(50), soc_learn[:50],'C0o', alpha=0.3, label='raw data')\n",
    "plt.plot(range(50), post['Learning'].mean(0)[:50],'C1o', alpha=0.3, label='posterior')\n",
    "plt.legend(fontsize=15)\n",
    "plt.ylabel('social_learning', fontsize=15)\n",
    "plt.xlabel('case', fontsize=15)\n",
    "plt.ylim([-10, 210])\n",
    "plt.show()"
   ]
  },
  {
   "cell_type": "code",
   "execution_count": 31,
   "metadata": {},
   "outputs": [
    {
     "data": {
      "image/png": "[encoded data removed]",
      "text/plain": [
       "<Figure size 800x300 with 1 Axes>"
      ]
     },
     "metadata": {
      "image/png": {
       "height": 311,
       "width": 811
      }
     },
     "output_type": "display_data"
    }
   ],
   "source": [
    "fig = plt.figure(figsize=(8, 3))\n",
    "plt.plot(range(50,100), soc_learn[50:100],'C0o', alpha=0.3, label='raw data')\n",
    "plt.plot(range(50,100), post['Learning'].mean(0)[50:100],'C1o', alpha=0.3, label='posterior')\n",
    "plt.legend(fontsize=15)\n",
    "plt.ylabel('social_learning', fontsize=15)\n",
    "plt.xlabel('case', fontsize=15)\n",
    "plt.ylim([-10, 210])\n",
    "plt.show()"
   ]
  },
  {
   "cell_type": "code",
   "execution_count": 32,
   "metadata": {},
   "outputs": [
    {
     "data": {
      "image/png": "[encoded data removed]",
      "text/plain": [
       "<Figure size 800x300 with 1 Axes>"
      ]
     },
     "metadata": {
      "image/png": {
       "height": 311,
       "width": 811
      }
     },
     "output_type": "display_data"
    }
   ],
   "source": [
    "fig = plt.figure(figsize=(8, 3))\n",
    "plt.plot(range(100, 149), soc_learn[100:149],'C0o', alpha=0.3, label='raw data')\n",
    "plt.plot(range(100, 149), post['Learning'].mean(0)[100:149],'C1o', alpha=0.3, label='posterior')\n",
    "plt.legend(fontsize=15)\n",
    "plt.ylabel('social_learning', fontsize=15)\n",
    "plt.xlabel('case', fontsize=15)\n",
    "plt.ylim([-10, 210])\n",
    "plt.show()"
   ]
  },
  {
   "cell_type": "code",
   "execution_count": 33,
   "metadata": {},
   "outputs": [
    {
     "name": "stderr",
     "output_type": "stream",
     "text": [
      "Auto-assigning NUTS sampler...\n",
      "Initializing NUTS using jitter+adapt_diag...\n",
      "Multiprocess sampling (4 chains in 4 jobs)\n",
      "NUTS: [bE, bB, a]\n"
     ]
    },
    {
     "data": {
      "text/html": [
       "\n",
       "    <div>\n",
       "        <style>\n",
       "            /* Turns off some styling */\n",
       "            progress {\n",
       "                /* gets rid of default border in Firefox and Opera. */\n",
       "                border: none;\n",
       "                /* Needs to be in here for Safari polyfill so background images work as expected. */\n",
       "                background-size: auto;\n",
       "            }\n",
       "            .progress-bar-interrupted, .progress-bar-interrupted::-webkit-progress-bar {\n",
       "                background: #F44336;\n",
       "            }\n",
       "        </style>\n",
       "      <progress value='8000' class='' max='8000' style='width:300px; height:20px; vertical-align: middle;'></progress>\n",
       "      100.00% [8000/8000 00:03<00:00 Sampling 4 chains, 0 divergences]\n",
       "    </div>\n",
       "    "
      ],
      "text/plain": [
       "<IPython.core.display.HTML object>"
      ]
     },
     "metadata": {},
     "output_type": "display_data"
    },
    {
     "name": "stderr",
     "output_type": "stream",
     "text": [
      "Sampling 4 chains for 1_000 tune and 1_000 draw iterations (4_000 + 4_000 draws total) took 4 seconds.\n"
     ]
    }
   ],
   "source": [
    "# define model: social_learning ~ log_brain + log_effort\n",
    "with pm.Model() as m6_6:\n",
    "    \n",
    "    # fixed priors\n",
    "    a = pm.Normal('a', mu=0., sd=1.0)\n",
    "    bB = pm.Normal('bB', mu=0., sd=0.5)\n",
    "    bE = pm.Normal('bE', mu=0., sd=0.5)\n",
    "    \n",
    "    # linear model\n",
    "    lam = pm.Deterministic('lam', pm.math.invlogit(a + bB*log_brain + bE*log_effort))\n",
    "    \n",
    "    # likelihood\n",
    "    Learning = pm.Poisson('Learning', mu=lam, observed=soc_learn)\n",
    "    \n",
    "    trace_m6_6 = pm.sample(1000, tune=1000, target_accept=0.9, random_seed=RANDOM_SEED)\n",
    "    idata_m6_6 = az.from_pymc3(trace_m6_6)"
   ]
  },
  {
   "cell_type": "code",
   "execution_count": 34,
   "metadata": {},
   "outputs": [
    {
     "data": {
      "text/html": [
       "<div>\n",
       "<style scoped>\n",
       "    .dataframe tbody tr th:only-of-type {\n",
       "        vertical-align: middle;\n",
       "    }\n",
       "\n",
       "    .dataframe tbody tr th {\n",
       "        vertical-align: top;\n",
       "    }\n",
       "\n",
       "    .dataframe thead th {\n",
       "        text-align: right;\n",
       "    }\n",
       "</style>\n",
       "<table border=\"1\" class=\"dataframe\">\n",
       "  <thead>\n",
       "    <tr style=\"text-align: right;\">\n",
       "      <th></th>\n",
       "      <th>mean</th>\n",
       "      <th>sd</th>\n",
       "      <th>hdi_5.5%</th>\n",
       "      <th>hdi_94.5%</th>\n",
       "    </tr>\n",
       "  </thead>\n",
       "  <tbody>\n",
       "    <tr>\n",
       "      <th>a</th>\n",
       "      <td>-3.70</td>\n",
       "      <td>0.55</td>\n",
       "      <td>-4.59</td>\n",
       "      <td>-2.85</td>\n",
       "    </tr>\n",
       "    <tr>\n",
       "      <th>bB</th>\n",
       "      <td>1.05</td>\n",
       "      <td>0.26</td>\n",
       "      <td>0.63</td>\n",
       "      <td>1.45</td>\n",
       "    </tr>\n",
       "    <tr>\n",
       "      <th>bE</th>\n",
       "      <td>1.19</td>\n",
       "      <td>0.15</td>\n",
       "      <td>0.97</td>\n",
       "      <td>1.45</td>\n",
       "    </tr>\n",
       "  </tbody>\n",
       "</table>\n",
       "</div>"
      ],
      "text/plain": [
       "    mean    sd  hdi_5.5%  hdi_94.5%\n",
       "a  -3.70  0.55     -4.59      -2.85\n",
       "bB  1.05  0.26      0.63       1.45\n",
       "bE  1.19  0.15      0.97       1.45"
      ]
     },
     "execution_count": 34,
     "metadata": {},
     "output_type": "execute_result"
    }
   ],
   "source": [
    "# show model summary\n",
    "varnames = ['~lam']\n",
    "az.summary(idata_m6_6, varnames, kind='stats', round_to=2, hdi_prob=0.89)"
   ]
  },
  {
   "cell_type": "markdown",
   "metadata": {},
   "source": [
    "Brain size bB is still positively associated, but much less. Research effort be is strongly associated. To see how these models disagree, let’s use pointwise WAIC to see which cases each predicts well."
   ]
  },
  {
   "cell_type": "code",
   "execution_count": 35,
   "metadata": {},
   "outputs": [
    {
     "data": {
      "text/html": [
       "<div>\n",
       "<style scoped>\n",
       "    .dataframe tbody tr th:only-of-type {\n",
       "        vertical-align: middle;\n",
       "    }\n",
       "\n",
       "    .dataframe tbody tr th {\n",
       "        vertical-align: top;\n",
       "    }\n",
       "\n",
       "    .dataframe thead th {\n",
       "        text-align: right;\n",
       "    }\n",
       "</style>\n",
       "<table border=\"1\" class=\"dataframe\">\n",
       "  <thead>\n",
       "    <tr style=\"text-align: right;\">\n",
       "      <th></th>\n",
       "      <th>rank</th>\n",
       "      <th>waic</th>\n",
       "      <th>p_waic</th>\n",
       "      <th>d_waic</th>\n",
       "      <th>weight</th>\n",
       "      <th>se</th>\n",
       "      <th>dse</th>\n",
       "      <th>warning</th>\n",
       "      <th>waic_scale</th>\n",
       "    </tr>\n",
       "  </thead>\n",
       "  <tbody>\n",
       "    <tr>\n",
       "      <th>m6_6</th>\n",
       "      <td>0</td>\n",
       "      <td>3189.05</td>\n",
       "      <td>2.10996</td>\n",
       "      <td>0</td>\n",
       "      <td>1</td>\n",
       "      <td>2041.56</td>\n",
       "      <td>0</td>\n",
       "      <td>False</td>\n",
       "      <td>deviance</td>\n",
       "    </tr>\n",
       "    <tr>\n",
       "      <th>m6_5</th>\n",
       "      <td>1</td>\n",
       "      <td>3253.22</td>\n",
       "      <td>2.98246</td>\n",
       "      <td>64.1698</td>\n",
       "      <td>3.80836e-09</td>\n",
       "      <td>2039.66</td>\n",
       "      <td>10.9933</td>\n",
       "      <td>True</td>\n",
       "      <td>deviance</td>\n",
       "    </tr>\n",
       "  </tbody>\n",
       "</table>\n",
       "</div>"
      ],
      "text/plain": [
       "     rank     waic   p_waic   d_waic       weight       se      dse warning  \\\n",
       "m6_6    0  3189.05  2.10996        0            1  2041.56        0   False   \n",
       "m6_5    1  3253.22  2.98246  64.1698  3.80836e-09  2039.66  10.9933    True   \n",
       "\n",
       "     waic_scale  \n",
       "m6_6   deviance  \n",
       "m6_5   deviance  "
      ]
     },
     "execution_count": 35,
     "metadata": {},
     "output_type": "execute_result"
    }
   ],
   "source": [
    "pm.compare({'m6_5': idata_m6_5, \n",
    "            'm6_6': idata_m6_6}, scale='deviance', ic='WAIC')"
   ]
  },
  {
   "cell_type": "markdown",
   "metadata": {},
   "source": [
    "ncluding E reduced the association with B, which we would expect when we close the indirect path through E. If researchers choose to look for social learning in species with large brains, this leads to an exaggerated estimate of the association between brains and social learning."
   ]
  }
 ],
 "metadata": {
  "kernelspec": {
   "display_name": "Statistical_Rethinking",
   "language": "python",
   "name": "statistical_rethinking"
  },
  "language_info": {
   "codemirror_mode": {
    "name": "ipython",
    "version": 3
   },
   "file_extension": ".py",
   "mimetype": "text/x-python",
   "name": "python",
   "nbconvert_exporter": "python",
   "pygments_lexer": "ipython3",
   "version": "3.7.4"
  }
 },
 "nbformat": 4,
 "nbformat_minor": 4
}
